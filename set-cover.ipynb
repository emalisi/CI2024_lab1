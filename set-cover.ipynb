{
 "cells": [
  {
   "cell_type": "code",
   "execution_count": 10,
   "metadata": {},
   "outputs": [],
   "source": [
    "from random import random, seed\n",
    "from itertools import product\n",
    "import numpy as np\n",
    "from icecream import ic"
   ]
  },
  {
   "cell_type": "code",
   "execution_count": 11,
   "metadata": {},
   "outputs": [],
   "source": [
    "UNIVERSE_SIZE=20\n",
    "NUM_SETS=10\n",
    "DENSITY=0.1\n",
    "\n",
    "rng= np.random.Generator(np.random.PCG64([UNIVERSE_SIZE, NUM_SETS, int(10_000*DENSITY)]))\n"
   ]
  },
  {
   "cell_type": "code",
   "execution_count": 12,
   "metadata": {},
   "outputs": [
    {
     "data": {
      "text/plain": [
       "array([4.59479342, 2.14354693, 3.34836952, 1.        , 3.34836952,\n",
       "       2.14354693, 7.17738719, 2.14354693, 1.        , 4.59479342])"
      ]
     },
     "execution_count": 12,
     "metadata": {},
     "output_type": "execute_result"
    }
   ],
   "source": [
    "SETS=np.random.random((NUM_SETS, UNIVERSE_SIZE)) <DENSITY\n",
    "for s in range(UNIVERSE_SIZE):\n",
    "    if not np.any(SETS[:, s]):\n",
    "        SETS[np.random.randint(NUM_SETS), s]= True\n",
    "\n",
    "COSTS=np.pow(SETS.sum(axis=1), 1.1)\n",
    "COSTS"
   ]
  },
  {
   "cell_type": "code",
   "execution_count": 13,
   "metadata": {},
   "outputs": [],
   "source": [
    "def valid(solution):\n",
    "    return np.all(np.logical_or.reduce(SETS[solution]))\n",
    "\n",
    "def cost(solution):\n",
    "    return COSTS[solution].sum()"
   ]
  },
  {
   "cell_type": "code",
   "execution_count": 14,
   "metadata": {},
   "outputs": [
    {
     "name": "stderr",
     "output_type": "stream",
     "text": [
      "ic| valid(solution): np.True_\n",
      "    cost(solution): np.float64(31.49435385250536)\n"
     ]
    }
   ],
   "source": [
    "#dumb solution of \"all\" sets\n",
    "solution=np.full(NUM_SETS, True)\n",
    "ic(valid(solution), cost(solution))\n",
    "None\n"
   ]
  },
  {
   "cell_type": "code",
   "execution_count": 15,
   "metadata": {},
   "outputs": [],
   "source": [
    "#a random solution with random 50% of the sets\n",
    "solution=rng.random(NUM_SETS)<0.5\n",
    "valid(solution), cost(solution)\n",
    "None"
   ]
  },
  {
   "cell_type": "markdown",
   "metadata": {},
   "source": [
    "# Simple RHMC"
   ]
  },
  {
   "cell_type": "code",
   "execution_count": 16,
   "metadata": {},
   "outputs": [],
   "source": [
    "def single_mutation(solution: np.ndarray)-> np.ndarray:\n",
    "    new_sol=solution.copy()\n",
    "    i=rng.integers(0, NUM_SETS)\n",
    "    new_sol[i]=not new_sol[i]\n",
    "    return new_sol\n",
    "\n",
    "def multiple_mutation(solution: np.ndarray, strength: float=0.3)-> np.ndarray:\n",
    "    new_sol=solution.copy()\n",
    "    mask=rng.random(NUM_SETS)<strength\n",
    "    if not np.any(mask):\n",
    "        mask[np.random.randint(NUM_SETS)]=True\n",
    "    new_sol=np.logical_xor(solution, mask)\n",
    "    return new_sol"
   ]
  },
  {
   "cell_type": "code",
   "execution_count": 17,
   "metadata": {},
   "outputs": [],
   "source": [
    "def fitness(solution: np.ndarray):\n",
    "    return (valid(solution), -cost(solution))"
   ]
  },
  {
   "cell_type": "code",
   "execution_count": 18,
   "metadata": {},
   "outputs": [
    {
     "name": "stderr",
     "output_type": "stream",
     "text": [
      "ic| fitness(solution): (np.False_, np.float64(-8.635463372246885))\n",
      "ic| fitness(solution): (np.False_, np.float64(-0.0))"
     ]
    },
    {
     "name": "stderr",
     "output_type": "stream",
     "text": [
      "\n"
     ]
    },
    {
     "data": {
      "text/plain": [
       "(np.False_, np.float64(-0.0))"
      ]
     },
     "execution_count": 18,
     "metadata": {},
     "output_type": "execute_result"
    }
   ],
   "source": [
    "\n",
    "solution=rng.random(NUM_SETS)<0.3\n",
    "solution_fitness=fitness(solution)\n",
    "ic(fitness(solution))\n",
    "\n",
    "\n",
    "tweak=multiple_mutation\n",
    "\n",
    "strength=0.5\n",
    "for steps in range(100):\n",
    "    if steps%1_000:\n",
    "        strength/=2\n",
    "    new_solution=multiple_mutation(solution, strength)\n",
    "    if fitness(new_solution)>solution_fitness:\n",
    "        solution=new_solution\n",
    "        solution_fitness=fitness(solution)\n",
    "\n",
    "ic(fitness(solution))"
   ]
  }
 ],
 "metadata": {
  "kernelspec": {
   "display_name": "CI2024",
   "language": "python",
   "name": "python3"
  },
  "language_info": {
   "codemirror_mode": {
    "name": "ipython",
    "version": 3
   },
   "file_extension": ".py",
   "mimetype": "text/x-python",
   "name": "python",
   "nbconvert_exporter": "python",
   "pygments_lexer": "ipython3",
   "version": "3.12.6"
  }
 },
 "nbformat": 4,
 "nbformat_minor": 2
}
