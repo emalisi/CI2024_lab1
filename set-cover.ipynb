{
 "cells": [
  {
   "cell_type": "code",
   "execution_count": 10,
   "metadata": {},
   "outputs": [],
   "source": [
    "from random import random, seed\n",
    "from itertools import product\n",
    "import numpy as np\n",
    "from icecream import ic"
   ]
  },
  {
   "cell_type": "code",
   "execution_count": 11,
   "metadata": {},
   "outputs": [],
   "source": [
    "UNIVERSE_SIZE=1000\n",
    "NUM_SETS=100\n",
    "DENSITY=0.2\n",
    "\n",
    "rng= np.random.Generator(np.random.PCG64([UNIVERSE_SIZE, NUM_SETS, int(10_000*DENSITY)]))\n"
   ]
  },
  {
   "cell_type": "code",
   "execution_count": 12,
   "metadata": {},
   "outputs": [
    {
     "data": {
      "text/plain": [
       "array([317.37567255, 308.10319271, 343.46817808, 332.2627678 ,\n",
       "       356.58323011, 311.80918295, 345.33901163, 349.08344012,\n",
       "       330.39850421, 381.05553287, 308.10319271, 330.39850421,\n",
       "       347.21076699, 345.33901163, 350.95702696, 369.74228963,\n",
       "       315.5191819 , 352.83152354, 377.28101248, 358.4604323 ,\n",
       "       347.21076699, 326.67284883, 352.83152354, 300.70339686,\n",
       "       311.80918295, 392.39939734, 321.09161243, 345.33901163,\n",
       "       343.46817808, 377.28101248, 330.39850421, 350.95702696,\n",
       "       341.59827047, 308.10319271, 347.21076699, 364.09738836,\n",
       "       287.79370589, 326.67284883, 315.5191819 , 350.95702696,\n",
       "       345.33901163, 343.46817808, 339.72929293, 297.00967256,\n",
       "       302.55181014, 347.21076699, 352.83152354, 339.72929293,\n",
       "       332.2627678 , 365.97814428, 356.58323011, 364.09738836,\n",
       "       364.09738836, 364.09738836, 343.46817808, 330.39850421,\n",
       "       350.95702696, 360.3385286 , 347.21076699, 302.55181014,\n",
       "       321.09161243, 356.58323011, 326.67284883, 332.2627678 ,\n",
       "       332.2627678 , 384.83345529, 339.72929293, 309.95568429,\n",
       "       349.08344012, 326.67284883, 335.99414485, 328.5351964 ,\n",
       "       360.3385286 , 326.67284883, 388.61475241, 349.08344012,\n",
       "       364.09738836, 371.62567174, 322.95105229, 345.33901163,\n",
       "       311.80918295, 349.08344012, 337.86124965, 352.83152354,\n",
       "       311.80918295, 309.95568429, 350.95702696, 386.72368371,\n",
       "       392.39939734, 354.7069259 , 317.37567255, 306.25171314,\n",
       "       343.46817808, 343.46817808, 345.33901163, 347.21076699,\n",
       "       322.95105229, 403.77315668, 337.86124965, 332.2627678 ])"
      ]
     },
     "execution_count": 12,
     "metadata": {},
     "output_type": "execute_result"
    }
   ],
   "source": [
    "SETS=np.random.random((NUM_SETS, UNIVERSE_SIZE)) <DENSITY\n",
    "for s in range(UNIVERSE_SIZE):\n",
    "    if not np.any(SETS[:, s]):\n",
    "        SETS[np.random.randint(NUM_SETS), s]= True\n",
    "\n",
    "COSTS=np.pow(SETS.sum(axis=1), 1.1)\n",
    "COSTS"
   ]
  },
  {
   "cell_type": "code",
   "execution_count": 13,
   "metadata": {},
   "outputs": [],
   "source": [
    "def valid(solution):\n",
    "    return np.all(np.logical_or.reduce(SETS[solution]))\n",
    "\n",
    "def cost(solution):\n",
    "    return COSTS[solution].sum()"
   ]
  },
  {
   "cell_type": "code",
   "execution_count": 14,
   "metadata": {},
   "outputs": [
    {
     "name": "stderr",
     "output_type": "stream",
     "text": [
      "ic| valid(solution): np.True_\n",
      "    cost(solution): np.float64(34153.846198748346)\n"
     ]
    }
   ],
   "source": [
    "#dumb solution of \"all\" sets\n",
    "solution=np.full(NUM_SETS, True)\n",
    "ic(valid(solution), cost(solution))\n",
    "None\n"
   ]
  },
  {
   "cell_type": "code",
   "execution_count": 15,
   "metadata": {},
   "outputs": [],
   "source": [
    "#a random solution with random 50% of the sets\n",
    "solution=rng.random(NUM_SETS)<0.5\n",
    "valid(solution), cost(solution)\n",
    "None"
   ]
  },
  {
   "cell_type": "markdown",
   "metadata": {},
   "source": [
    "# Simple RHMC"
   ]
  },
  {
   "cell_type": "code",
   "execution_count": 16,
   "metadata": {},
   "outputs": [],
   "source": [
    "def multiple_mutation(solution: np.ndarray, strength: float=0.3)-> np.ndarray:\n",
    "    new_sol=solution.copy()\n",
    "    mask=rng.random(NUM_SETS)<strength\n",
    "    if not np.any(mask):\n",
    "        mask[np.random.randint(NUM_SETS)]=True\n",
    "    new_sol=np.logical_xor(solution, mask)\n",
    "    return new_sol"
   ]
  },
  {
   "cell_type": "code",
   "execution_count": 17,
   "metadata": {},
   "outputs": [],
   "source": [
    "def fitness(solution: np.ndarray):\n",
    "    return (valid(solution), -cost(solution))"
   ]
  },
  {
   "cell_type": "code",
   "execution_count": 18,
   "metadata": {},
   "outputs": [
    {
     "name": "stderr",
     "output_type": "stream",
     "text": [
      "ic| fitness(solution): (np.False_, np.float64(-10425.267492715635))\n",
      "ic| fitness(solution): (np.True_, np.float64(-7458.970748713975))\n"
     ]
    },
    {
     "data": {
      "text/plain": [
       "(np.True_, np.float64(-7458.970748713975))"
      ]
     },
     "execution_count": 18,
     "metadata": {},
     "output_type": "execute_result"
    }
   ],
   "source": [
    "solution=rng.random(NUM_SETS)<0.3\n",
    "solution_fitness=fitness(solution)\n",
    "ic(fitness(solution))\n",
    "\n",
    "\n",
    "tweak=multiple_mutation\n",
    "\n",
    "strength=0.5\n",
    "for steps in range(100):\n",
    "    if steps%1_000:\n",
    "        strength/=2\n",
    "    new_solution=multiple_mutation(solution, strength)\n",
    "    if fitness(new_solution)>solution_fitness:\n",
    "        solution=new_solution\n",
    "        solution_fitness=fitness(solution)\n",
    "\n",
    "ic(fitness(solution))"
   ]
  },
  {
   "cell_type": "markdown",
   "metadata": {},
   "source": [
    "# Greedy Algorithm"
   ]
  },
  {
   "cell_type": "code",
   "execution_count": 19,
   "metadata": {},
   "outputs": [],
   "source": [
    "def set_cover_greedy(SETS, COSTS):\n",
    "    universe = set(range(SETS.shape[1])) #all elements\n",
    "    covered = set()                      #covered elements\n",
    "    selected = []                        #indexes of selected subsets, we start from an empty solution\n",
    "\n",
    "    while covered!=universe:\n",
    "        best_subset = None\n",
    "        best_ratio = float(\"inf\")\n",
    "\n",
    "        for i in range(len(SETS)):\n",
    "            subset = SETS[i]                            \n",
    "            subset_elements = set(np.where(subset)[0]) #for each subset\n",
    "            new_elements = subset_elements - covered   #I take the uncovered elements\n",
    "\n",
    "            if new_elements:                  #if there are uncovered elements  \n",
    "                current_cost = COSTS[i]       #I compute the ration cost/coverage\n",
    "                coverage = len(new_elements)\n",
    "                ratio = current_cost/coverage\n",
    "\n",
    "                if ratio < best_ratio:        #if the ratio is the best to this moment\n",
    "                    best_ratio = ratio        #I choose the current as best subset\n",
    "                    best_subset = i\n",
    "\n",
    "        if best_subset is not None:\n",
    "            selected.append(best_subset)\n",
    "            covered.update(set(np.where(SETS[best_subset])[0]))\n",
    "        else:\n",
    "            raise RuntimeError(\"No valid subset found. The problem may not be solvable with these sets and costs.\")\n",
    "\n",
    "    return selected"
   ]
  },
  {
   "cell_type": "code",
   "execution_count": 20,
   "metadata": {},
   "outputs": [
    {
     "name": "stderr",
     "output_type": "stream",
     "text": [
      "ic| fitness(solution): (np.True_, np.float64(-5600.820242414958))\n"
     ]
    },
    {
     "data": {
      "text/plain": [
       "(np.True_, np.float64(-5600.820242414958))"
      ]
     },
     "execution_count": 20,
     "metadata": {},
     "output_type": "execute_result"
    }
   ],
   "source": [
    "solution = set_cover_greedy(SETS=SETS, COSTS=COSTS)\n",
    "ic(fitness(solution))"
   ]
  }
 ],
 "metadata": {
  "kernelspec": {
   "display_name": "CI2024",
   "language": "python",
   "name": "python3"
  },
  "language_info": {
   "codemirror_mode": {
    "name": "ipython",
    "version": 3
   },
   "file_extension": ".py",
   "mimetype": "text/x-python",
   "name": "python",
   "nbconvert_exporter": "python",
   "pygments_lexer": "ipython3",
   "version": "3.12.6"
  }
 },
 "nbformat": 4,
 "nbformat_minor": 2
}
